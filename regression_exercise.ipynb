{
  "cells": [
    {
      "cell_type": "markdown",
      "metadata": {
        "id": "25D5mj3Evo1B"
      },
      "source": [
        "# Regression\n",
        "\n",
        "## Important notes\n",
        "\n",
        "1. *When you open this file on GitHub, copy the address to this file from the address bar of your browser. Now you can go to [Google Colab](https://colab.research.google.com/), click `File -> Open notebook -> GitHub`, paste the copied URL and click the search button (the one with the magnifying glass to the right of the search input box). Your personal copy of this notebook will now open on Google Colab.*\n",
        "2. *Do not delete or change variable names in the code cells below. You may add to each cell as many lines of code as you need, just make sure to assign your solution to the predefined variable(s) in the corresponding cell. Failing to do so will make the tests fail.*\n",
        "3. *To save your work, click `File -> Save a copy on GitHub` and __make sure to manually select the correct repository from the dropdown list__.*\n",
        "4. *If you mess up with this file and need to start from scratch, you can always find the original notebook [here](https://github.com/hse-mlwp-2022/assignment4-template/blob/main/regression_exercise.ipynb). Just open it in Google Colab (see note 1) and save to your repository (see note 3). Remember to backup your code elsewhere, since this action will overwrite your previous work.*\n",
        "\n",
        "## Initialization\n",
        "\n",
        "### Import the libraries you need in the cell below"
      ]
    },
    {
      "cell_type": "code",
      "execution_count": null,
      "metadata": {
        "id": "p4CiNlMbvo1I"
      },
      "outputs": [],
      "source": [
        "# Place your code here to import the libraries, e.g. pandas, numpy, sklearn, etc.\n",
        "import pandas as pd\n",
        "import numpy as np\n",
        "import sklearn\n",
        "import matplotlib.pyplot as plt\n",
        "import csv\n",
        "import statsmodels.api as sm"
      ]
    },
    {
      "cell_type": "markdown",
      "metadata": {
        "id": "7KlJLGh-vo1J"
      },
      "source": [
        "### 0. Find your task\n",
        "Follow the [link](https://docs.google.com/spreadsheets/d/194gX8uSUyqv_aQbJi8_TYuIgXHsDBtMDCofQ1uJ4GvA/edit?usp=sharing) to a Google Sheet with a list of students. Locate your name on the list and take note of the corresponding Student ID in the first column. Fill it in the cell below and run the cell. If you can't find yourself on the list, consult your course instructor."
      ]
    },
    {
      "cell_type": "code",
      "execution_count": null,
      "metadata": {
        "id": "FtaFumkBvo1K"
      },
      "outputs": [],
      "source": [
        "### BEGIN YOUR CODE\n",
        "\n",
        "Student_ID = None\n",
        "\n",
        "### END YOUR CODE"
      ]
    },
    {
      "cell_type": "markdown",
      "metadata": {
        "id": "fkexWOWcvo1L"
      },
      "source": [
        "Now run the next cell. It will print all information for you."
      ]
    },
    {
      "cell_type": "code",
      "execution_count": null,
      "metadata": {
        "id": "2a4FGe5Evo1M"
      },
      "outputs": [],
      "source": [
        "task_id = None if Student_ID is None else Student_ID % 5 if Student_ID % 5 > 0 else 5\n",
        "_model_power = None if Student_ID is None else (Student_ID % 4) + 3\n",
        "if task_id is not None:\n",
        "    print(f\"TASKID is {task_id}\")\n",
        "    print(f\"Please, choose a dataset No {task_id} below\")\n",
        "    print(f\"Your second model must be of power p = {_model_power}\")\n",
        "else:\n",
        "    print(\"Please, enter your Student ID in the cell above!\")"
      ]
    },
    {
      "cell_type": "markdown",
      "metadata": {
        "id": "qMTTm9Hbvo1O"
      },
      "source": [
        "#### Datasets\n",
        "\n",
        "1. Poultry meat consumption in Europe, kilograms per person per year\n",
        "\n",
        "|     |     |     |     |     |     |     |     |     |     |     |\n",
        "| --- | --- | --- | --- | --- | --- | --- | --- | --- | --- | --- | \n",
        "| Year | 2000 | 2001 | 2002 | 2003 | 2004 | 2005 | 2006 | 2007 | 2008 | 2009 | \n",
        "| Consumption | 16.0 | 17.9 | 18.6 | 18.3 | 19.0 | 19.3 | 19.2 | 20.3 | 21.1 | 21.9 | \n",
        "\n",
        "2. Sugar consumption in Russia, grams per person per day\n",
        "\n",
        "|     |     |     |     |     |     |     |     |     |     |     |\n",
        "| --- | --- | --- | --- | --- | --- | --- | --- | --- | --- | --- | \n",
        "| Decade | 1950 | 1960 | 1970 | 1980 | 1990 | 2000 | 2015 |\n",
        "| Consumption | 32 | 85 | 115 | 130 | 130 | 96 | 107 |\n",
        "\n",
        "3. Poultry meat consumption in Asia, kilograms per person per year\n",
        "\n",
        "|     |     |     |     |     |     |     |     |     |     |     |\n",
        "| --- | --- | --- | --- | --- | --- | --- | --- | --- | --- | --- | \n",
        "| Year | 2000 | 2001 | 2002 | 2003 | 2004 | 2005 | 2006 | 2007 | 2008 | 2009 | \n",
        "| Consumption | 6.7 | 6.6 | 6.8 | 7.0 | 7.0 | 7.5 | 7.7 | 8.2 | 8.6 | 8.8 | \n",
        "\n",
        "4. Poultry meat consumption in Africa, kilograms per person per year\n",
        "\n",
        "|     |     |     |     |     |     |     |     |     |     |     |\n",
        "| --- | --- | --- | --- | --- | --- | --- | --- | --- | --- | --- | \n",
        "| Year | 2000 | 2001 | 2002 | 2003 | 2004 | 2005 | 2006 | 2007 | 2008 | 2009 | \n",
        "| Consumption | 4.2 | 4.3 | 4.5 | 4.7 | 4.6 | 4.7 | 4.8 | 5.2 | 5.4 | 5.5 | \n",
        "\n",
        "5. Demographic situation in Russia, number of marriages per 1000 people per year\n",
        "\n",
        "|     |     |     |     |     |     |     |     |     |     |     |\n",
        "| --- | --- | --- | --- | --- | --- | --- | --- | --- | --- | --- | \n",
        "| Year | 2011 | 2012 | 2013 | 2014 | 2015 | 2016 | 2017 | 2018 | 2019 | 2020 |\n",
        "| Marriages per 1000 population | 9.2 | 8.5 | 8.5 | 8.4 | 7.9 | 6.7 | 7.1 | 6.1 | 6.3 | 5.3 |\n"
      ]
    },
    {
      "cell_type": "markdown",
      "metadata": {
        "id": "Ds3PPgUyvo1O"
      },
      "source": [
        "### 1. Define a pandas dataset with the data for your task\n",
        "[This](https://pandas.pydata.org/docs/reference/api/pandas.DataFrame.html) documentation might help.\n",
        "\n",
        "**Make sure to normalize your $x$ variable, i.e. replace years with sequential numbers 0, 1, ...**"
      ]
    },
    {
      "cell_type": "code",
      "execution_count": null,
      "metadata": {
        "id": "SkYN7BxIvo1P"
      },
      "outputs": [],
      "source": [
        "# Place your code here to create the dataset here"
      ]
    },
    {
      "cell_type": "markdown",
      "metadata": {
        "id": "O5pqnVPfvo1R"
      },
      "source": [
        "## First regression model\n",
        "\n",
        "You should build the following model:\n",
        "\n",
        "$$ y_1 = \\theta_2 \\cdot x^2 + \\theta_1 \\cdot x + \\theta_0 $$\n",
        "\n",
        "where $y$ is the response variable and $x$ is the explanatory variable (see description of your dataset).\n",
        "\n",
        "### 2. Define feature matrix $X$ for the first model (1 point)\n",
        "\n",
        "It should be a `numpy` array or a `pandas` dataframe"
      ]
    },
    {
      "cell_type": "code",
      "execution_count": null,
      "metadata": {
        "id": "kJc7iu2vvo1R"
      },
      "outputs": [],
      "source": [
        "feature_matrix_X = ... # Place your code here instead of '...'\n",
        "\n",
        "feature_matrix_X"
      ]
    },
    {
      "cell_type": "markdown",
      "metadata": {
        "id": "2iuSW0jSvo1S"
      },
      "source": [
        "### 3. Train first regression model with OLS method by using matrix multiplications (2 points)\n",
        "\n",
        "Use the entire dataset for training. You can find the formula on our lectures and in the seminar notebook.\n",
        "\n",
        "`first_model_coeffs` should be an iterable, e.g. a list or a numpy array"
      ]
    },
    {
      "cell_type": "code",
      "execution_count": null,
      "metadata": {
        "id": "KiNs37FMvo1T"
      },
      "outputs": [],
      "source": [
        "first_model_coeffs = ... # Place your code here instead of '...'\n",
        "\n",
        "print(f\"Coefficints of the first regression model are '{first_model_coeffs}'\")"
      ]
    },
    {
      "cell_type": "markdown",
      "metadata": {
        "id": "IcTbY4C_vo1U"
      },
      "source": [
        "## Second regression model\n",
        "\n",
        "Choose the power $p$ of your model (see step 0 above). You should build the following model:\n",
        "\n",
        "$$ y_2 = \\sum_{i=1}^{p}{\\theta_i \\cdot x^p} $$\n",
        "\n",
        "where $y$ is the response variable and $x$ is the explanatory variable (see description of your dataset) and $p$ is the power of the model.\n",
        "\n",
        "### 4. Train second regression model with OLS method using `stats.models.regression` module (2 points)\n",
        "\n",
        "`second_model_coeffs` should be an iterable, e.g. a list or a numpy array"
      ]
    },
    {
      "cell_type": "code",
      "execution_count": null,
      "metadata": {
        "id": "pjfhR0G3vo1U"
      },
      "outputs": [],
      "source": [
        "second_model_coeffs = ... # Place your code here instead of '...'\n",
        "\n",
        "print(f\"Coefficints of the second regression model are '{second_model_coeffs}'\")"
      ]
    },
    {
      "cell_type": "markdown",
      "metadata": {
        "id": "WwwVSEDyvo1U"
      },
      "source": [
        "## Third regression model\n",
        "\n",
        "You should build the following model:\n",
        "\n",
        "$$ y_3 = \\theta_1 \\cdot x + \\theta_0 $$\n",
        "\n",
        "where $y$ is the response variable and $x$ is the explanatory variable (see description of your dataset).\n",
        "\n",
        "### 5. Train third regression model with gradient descent (3 points, optional)\n",
        "\n",
        "You can write your own function for gradient descent or find one on the Internet. It should be possible to change the initial value and learning rate.\n",
        "\n",
        "`third_model_coeffs` should be an iterable, e.g. a list or a numpy array"
      ]
    },
    {
      "cell_type": "code",
      "execution_count": null,
      "metadata": {
        "id": "j60wWrylvo1V"
      },
      "outputs": [],
      "source": [
        "third_model_coeffs = ... # Place your code here instead of '...'\n",
        "\n",
        "print(f\"Coefficints of the third regression model are '{third_model_coeffs}'\")"
      ]
    },
    {
      "cell_type": "markdown",
      "metadata": {
        "id": "59ww9z-kvo1V"
      },
      "source": [
        "## Error estimation\n",
        "\n",
        "### 6. Calculate MSE and RMSE for all your regression models (2 points)\n",
        "\n",
        "Error estimations should be floating point numbers"
      ]
    },
    {
      "cell_type": "code",
      "execution_count": null,
      "metadata": {
        "id": "oUqYmHK8vo1W"
      },
      "outputs": [],
      "source": [
        "first_model_mse = ... # Place your code here instead of '...'\n",
        "second_model_mse = ... # Place your code here instead of '...'\n",
        "third_model_mse = ... # Place your code here instead of '...' (optional)\n",
        "\n",
        "first_model_rmse = ... # Place your code here instead of '...'\n",
        "second_model_rmse = ... # Place your code here instead of '...'\n",
        "third_model_rmse = ... # Place your code here instead of '...' (optional)"
      ]
    },
    {
      "cell_type": "markdown",
      "metadata": {
        "id": "meBOjIyJvo1W"
      },
      "source": [
        "## Visualization\n",
        "\n",
        "### 7. Use `matplotlib` to visualize your results (graded manually, exam)\n",
        "\n",
        "You should build a single plot with all your models (2 or 3) drawn as curves/lines of different type and color. Additional points if you make the curves look smooth. Draw your dataset as dots on the same plot, do not connect them with lines."
      ]
    },
    {
      "cell_type": "code",
      "execution_count": null,
      "metadata": {
        "id": "3my9LfGUvo1W"
      },
      "outputs": [],
      "source": [
        "# Place your code here"
      ]
    },
    {
      "cell_type": "markdown",
      "metadata": {
        "id": "zOz9KMRAvo1X"
      },
      "source": [
        "### 8. Prepare to discuss your results with the teacher (exam)\n",
        "\n",
        "Which model is better? Why? What else can you do to make the predictions better?"
      ]
    },
    {
      "cell_type": "code",
      "execution_count": null,
      "metadata": {
        "id": "6GYvRaZivo1X"
      },
      "outputs": [],
      "source": [
        ""
      ]
    }
  ],
  "metadata": {
    "kernelspec": {
      "display_name": "Python 3",
      "language": "python",
      "name": "python3"
    },
    "language_info": {
      "codemirror_mode": {
        "name": "ipython",
        "version": 3
      },
      "file_extension": ".py",
      "mimetype": "text/x-python",
      "name": "python",
      "nbconvert_exporter": "python",
      "pygments_lexer": "ipython3",
      "version": "3.7.6"
    },
    "colab": {
      "name": "regression_exercise.ipynb",
      "provenance": []
    }
  },
  "nbformat": 4,
  "nbformat_minor": 0
}