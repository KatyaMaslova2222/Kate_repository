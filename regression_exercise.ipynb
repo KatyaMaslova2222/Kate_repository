{
  "cells": [
    {
      "cell_type": "markdown",
      "metadata": {
        "id": "25D5mj3Evo1B"
      },
      "source": [
        "# Regression\n",
        "\n",
        "## Important notes\n",
        "\n",
        "1. *When you open this file on GitHub, copy the address to this file from the address bar of your browser. Now you can go to [Google Colab](https://colab.research.google.com/), click `File -> Open notebook -> GitHub`, paste the copied URL and click the search button (the one with the magnifying glass to the right of the search input box). Your personal copy of this notebook will now open on Google Colab.*\n",
        "2. *Do not delete or change variable names in the code cells below. You may add to each cell as many lines of code as you need, just make sure to assign your solution to the predefined variable(s) in the corresponding cell. Failing to do so will make the tests fail.*\n",
        "3. *To save your work, click `File -> Save a copy on GitHub` and __make sure to manually select the correct repository from the dropdown list__.*\n",
        "4. *If you mess up with this file and need to start from scratch, you can always find the original notebook [here](https://github.com/hse-mlwp-2022/assignment4-template/blob/main/regression_exercise.ipynb). Just open it in Google Colab (see note 1) and save to your repository (see note 3). Remember to backup your code elsewhere, since this action will overwrite your previous work.*\n",
        "\n",
        "## Initialization\n",
        "\n",
        "### Import the libraries you need in the cell below"
      ]
    },
    {
      "cell_type": "code",
      "execution_count": 4,
      "metadata": {
        "id": "p4CiNlMbvo1I"
      },
      "outputs": [],
      "source": [
        "# Place your code here to import the libraries, e.g. pandas, numpy, sklearn, etc.\n",
        "import pandas as pd\n",
        "import pandas.testing as tm\n",
        "import numpy as np\n",
        "from sklearn.metrics import mean_squared_error\n",
        "import matplotlib.pyplot as plt\n",
        "import seaborn as sns\n",
        "import statsmodels.api as sm"
      ]
    },
    {
      "cell_type": "markdown",
      "metadata": {
        "id": "7KlJLGh-vo1J"
      },
      "source": [
        "### 0. Find your task\n",
        "Follow the [link](https://docs.google.com/spreadsheets/d/194gX8uSUyqv_aQbJi8_TYuIgXHsDBtMDCofQ1uJ4GvA/edit?usp=sharing) to a Google Sheet with a list of students. Locate your name on the list and take note of the corresponding Student ID in the first column. Fill it in the cell below and run the cell. If you can't find yourself on the list, consult your course instructor."
      ]
    },
    {
      "cell_type": "code",
      "execution_count": 5,
      "metadata": {
        "id": "FtaFumkBvo1K"
      },
      "outputs": [],
      "source": [
        "### BEGIN YOUR CODE\n",
        "\n",
        "Student_ID = 35\n",
        "\n",
        "### END YOUR CODE"
      ]
    },
    {
      "cell_type": "markdown",
      "metadata": {
        "id": "fkexWOWcvo1L"
      },
      "source": [
        "Now run the next cell. It will print all information for you."
      ]
    },
    {
      "cell_type": "code",
      "execution_count": 6,
      "metadata": {
        "colab": {
          "base_uri": "https://localhost:8080/"
        },
        "id": "2a4FGe5Evo1M",
        "outputId": "064d1a2f-a481-4275-ddb8-0c15c19c81d3"
      },
      "outputs": [
        {
          "output_type": "stream",
          "name": "stdout",
          "text": [
            "TASKID is 5\n",
            "Please, choose a dataset No 5 below\n",
            "Your second model must be of power p = 6\n"
          ]
        }
      ],
      "source": [
        "task_id = None if Student_ID is None else Student_ID % 5 if Student_ID % 5 > 0 else 5\n",
        "_model_power = None if Student_ID is None else (Student_ID % 4) + 3\n",
        "if task_id is not None:\n",
        "    print(f\"TASKID is {task_id}\")\n",
        "    print(f\"Please, choose a dataset No {task_id} below\")\n",
        "    print(f\"Your second model must be of power p = {_model_power}\")\n",
        "else:\n",
        "    print(\"Please, enter your Student ID in the cell above!\")"
      ]
    },
    {
      "cell_type": "markdown",
      "metadata": {
        "id": "qMTTm9Hbvo1O"
      },
      "source": [
        "#### Datasets\n",
        "\n",
        "1. Poultry meat consumption in Europe, kilograms per person per year\n",
        "\n",
        "|     |     |     |     |     |     |     |     |     |     |     |\n",
        "| --- | --- | --- | --- | --- | --- | --- | --- | --- | --- | --- | \n",
        "| Year | 2000 | 2001 | 2002 | 2003 | 2004 | 2005 | 2006 | 2007 | 2008 | 2009 | \n",
        "| Consumption | 16.0 | 17.9 | 18.6 | 18.3 | 19.0 | 19.3 | 19.2 | 20.3 | 21.1 | 21.9 | \n",
        "\n",
        "2. Sugar consumption in Russia, grams per person per day\n",
        "\n",
        "|     |     |     |     |     |     |     |     |     |     |     |\n",
        "| --- | --- | --- | --- | --- | --- | --- | --- | --- | --- | --- | \n",
        "| Decade | 1950 | 1960 | 1970 | 1980 | 1990 | 2000 | 2015 |\n",
        "| Consumption | 32 | 85 | 115 | 130 | 130 | 96 | 107 |\n",
        "\n",
        "3. Poultry meat consumption in Asia, kilograms per person per year\n",
        "\n",
        "|     |     |     |     |     |     |     |     |     |     |     |\n",
        "| --- | --- | --- | --- | --- | --- | --- | --- | --- | --- | --- | \n",
        "| Year | 2000 | 2001 | 2002 | 2003 | 2004 | 2005 | 2006 | 2007 | 2008 | 2009 | \n",
        "| Consumption | 6.7 | 6.6 | 6.8 | 7.0 | 7.0 | 7.5 | 7.7 | 8.2 | 8.6 | 8.8 | \n",
        "\n",
        "4. Poultry meat consumption in Africa, kilograms per person per year\n",
        "\n",
        "|     |     |     |     |     |     |     |     |     |     |     |\n",
        "| --- | --- | --- | --- | --- | --- | --- | --- | --- | --- | --- | \n",
        "| Year | 2000 | 2001 | 2002 | 2003 | 2004 | 2005 | 2006 | 2007 | 2008 | 2009 | \n",
        "| Consumption | 4.2 | 4.3 | 4.5 | 4.7 | 4.6 | 4.7 | 4.8 | 5.2 | 5.4 | 5.5 | \n",
        "\n",
        "5. Demographic situation in Russia, number of marriages per 1000 people per year\n",
        "\n",
        "|     |     |     |     |     |     |     |     |     |     |     |\n",
        "| --- | --- | --- | --- | --- | --- | --- | --- | --- | --- | --- | \n",
        "| Year | 2011 | 2012 | 2013 | 2014 | 2015 | 2016 | 2017 | 2018 | 2019 | 2020 |\n",
        "| Marriages per 1000 population | 9.2 | 8.5 | 8.5 | 8.4 | 7.9 | 6.7 | 7.1 | 6.1 | 6.3 | 5.3 |\n"
      ]
    },
    {
      "cell_type": "markdown",
      "metadata": {
        "id": "Ds3PPgUyvo1O"
      },
      "source": [
        "### 1. Define a pandas dataset with the data for your task\n",
        "[This](https://pandas.pydata.org/docs/reference/api/pandas.DataFrame.html) documentation might help.\n",
        "\n",
        "**Make sure to normalize your $x$ variable, i.e. replace years with sequential numbers 0, 1, ...**"
      ]
    },
    {
      "cell_type": "code",
      "execution_count": 7,
      "metadata": {
        "colab": {
          "base_uri": "https://localhost:8080/"
        },
        "id": "SkYN7BxIvo1P",
        "outputId": "f356b6c0-ea17-4709-fb2e-aa6b719267d3"
      },
      "outputs": [
        {
          "output_type": "stream",
          "name": "stdout",
          "text": [
            "   Year  Marriages per 1000 population\n",
            "0     0                            9.2\n",
            "1     1                            8.5\n",
            "2     2                            8.5\n",
            "3     3                            8.4\n",
            "4     4                            7.9\n",
            "5     5                            6.7\n",
            "6     6                            7.1\n",
            "7     7                            6.1\n",
            "8     8                            6.3\n",
            "9     9                            5.3\n"
          ]
        }
      ],
      "source": [
        "# Place your code here to create the dataset here\n",
        "data = np.array([(0, 9.2), (1, 8.5), (2, 8.5), (3, 8.4), (4, 7.9), (5, 6.7), (6, 7.1), (7, 6.1), (8, 6.3), (9, 5.3)],\n",
        "\n",
        "                dtype=[(\"Year\", \"i4\"), (\"Marriages per 1000 population\", \"f\")])\n",
        "\n",
        "df3 = pd.DataFrame(data, columns=['Year', 'Marriages per 1000 population'])\n",
        "print(df3)"
      ]
    },
    {
      "cell_type": "markdown",
      "metadata": {
        "id": "O5pqnVPfvo1R"
      },
      "source": [
        "## First regression model\n",
        "\n",
        "You should build the following model:\n",
        "\n",
        "$$ y_1 = \\theta_2 \\cdot x^2 + \\theta_1 \\cdot x + \\theta_0 $$\n",
        "\n",
        "where $y$ is the response variable and $x$ is the explanatory variable (see description of your dataset).\n",
        "\n",
        "### 2. Define feature matrix $X$ for the first model (1 point)\n",
        "\n",
        "It should be a `numpy` array or a `pandas` dataframe"
      ]
    },
    {
      "cell_type": "code",
      "execution_count": 8,
      "metadata": {
        "colab": {
          "base_uri": "https://localhost:8080/"
        },
        "id": "kJc7iu2vvo1R",
        "outputId": "cfddfeb5-1bad-45db-d322-4c2dd6bc69b7"
      },
      "outputs": [
        {
          "output_type": "stream",
          "name": "stdout",
          "text": [
            "(10, 1)\n",
            "(10, 1)\n"
          ]
        },
        {
          "output_type": "execute_result",
          "data": {
            "text/plain": [
              "array([[0],\n",
              "       [1],\n",
              "       [2],\n",
              "       [3],\n",
              "       [4],\n",
              "       [5],\n",
              "       [6],\n",
              "       [7],\n",
              "       [8],\n",
              "       [9]], dtype=int32)"
            ]
          },
          "metadata": {},
          "execution_count": 8
        }
      ],
      "source": [
        "feature_matrix_X = np.array(data[\"Year\"]).reshape(10, 1)\n",
        "X = np.array(feature_matrix_X)\n",
        "Y = np.array(data[\"Marriages per 1000 population\"].reshape(10, 1))\n",
        "\n",
        "print(X.shape)\n",
        "print(Y.shape)\n",
        "feature_matrix_X"
      ]
    },
    {
      "cell_type": "markdown",
      "metadata": {
        "id": "2iuSW0jSvo1S"
      },
      "source": [
        "### 3. Train first regression model with OLS method by using matrix multiplications (2 points)\n",
        "\n",
        "Use the entire dataset for training. You can find the formula on our lectures and in the seminar notebook.\n",
        "\n",
        "`first_model_coeffs` should be an iterable, e.g. a list or a numpy array"
      ]
    },
    {
      "cell_type": "code",
      "execution_count": 57,
      "metadata": {
        "colab": {
          "base_uri": "https://localhost:8080/"
        },
        "id": "KiNs37FMvo1T",
        "outputId": "818b5b5f-e95c-41ec-ad76-ca0c0c880a87"
      },
      "outputs": [
        {
          "output_type": "stream",
          "name": "stdout",
          "text": [
            "Coefficints of the first regression model are '[ 9.11181811 -0.31083338 -0.01098484]'\n"
          ]
        }
      ],
      "source": [
        "x0 = X\n",
        "ln = np.linspace(0, 9, num=10)\n",
        "X1 = np.column_stack((np.ones(10), x0, x0 ** 2))\n",
        "\n",
        "X1 = sm.add_constant(X1)\n",
        "\n",
        "model = sm.OLS(Y, X1)\n",
        "results = model.fit()\n",
        "first_model_coeffs = results.params\n",
        "print(f\"Coefficints of the first regression model are '{first_model_coeffs}'\")\n",
        "\n",
        "def predict1(X, Y):\n",
        "    n = len(X)\n",
        "    X = np.array(X)\n",
        "    #print('ln=',(ln * results.params[1] ).reshape(10,1))\n",
        "    #print('x1=',X * (results.params[2]))\n",
        "    #print('x2=',(X.dot(X.T).dot(ln * results.params[3]).reshape(10,1)))\n",
        "    y_pred = ( np.ones(10) * results.params[0] ).reshape(10,1)  +  X * (results.params[1]) + (X * X * (results.params[2])).reshape(10,1) #(X.dot(X.T).dot(ln * results.params[2]).reshape(10,1))\n",
        "    #print('y_p=',y_pred)\n",
        "    y = Y\n",
        "    #if y != None:\n",
        "    if n != len(y):\n",
        "        print (\"Error, the input X, y should be the same length, while you have len(X)=%d and len(y)=%d\"%(n, len(y)))\n",
        "    y = np.array(y)\n",
        "    y_pred = y_pred.reshape(n)\n",
        "    if len(y.shape) != 1:\n",
        "        y = y.reshape(n)\n",
        "        rmse = np.sqrt(np.sum(np.square(y-y_pred)) / n)\n",
        "        mse = np.sum(np.square(y-y_pred)) / n\n",
        "    return y_pred, rmse, mse\n",
        "y_pred_1, rmse_1, mse_1 = predict1(x0,Y)"
      ]
    },
    {
      "cell_type": "markdown",
      "metadata": {
        "id": "IcTbY4C_vo1U"
      },
      "source": [
        "## Second regression model\n",
        "\n",
        "Choose the power $p$ of your model (see step 0 above). You should build the following model:\n",
        "\n",
        "$$ y_2 = \\sum_{i=1}^{p}{\\theta_i \\cdot x^p} $$\n",
        "\n",
        "where $y$ is the response variable and $x$ is the explanatory variable (see description of your dataset) and $p$ is the power of the model.\n",
        "\n",
        "### 4. Train second regression model with OLS method using `stats.models.regression` module (2 points)\n",
        "\n",
        "`second_model_coeffs` should be an iterable, e.g. a list or a numpy array"
      ]
    },
    {
      "cell_type": "code",
      "execution_count": 55,
      "metadata": {
        "colab": {
          "base_uri": "https://localhost:8080/"
        },
        "id": "pjfhR0G3vo1U",
        "outputId": "515a137d-a399-4dff-fe87-5d23e50c34ac"
      },
      "outputs": [
        {
          "output_type": "stream",
          "name": "stdout",
          "text": [
            "Coefficints of the second regression model are '[ 9.20199281e+00 -1.84359052e+00  1.64823741e+00 -6.19653498e-01\n",
            "  1.02101929e-01 -7.55287484e-03  2.01388531e-04]'\n"
          ]
        }
      ],
      "source": [
        "x0 = X\n",
        "X1 = np.column_stack((x0, x0 ** 2, x0 ** 3, x0 ** 4, x0 ** 5, x0 ** 6))\n",
        "\n",
        "X1 = sm.add_constant(X1)\n",
        "\n",
        "model = sm.OLS(Y, X1)\n",
        "results = model.fit()\n",
        "second_model_coeffs = results.params\n",
        "\n",
        "print(f\"Coefficints of the second regression model are '{second_model_coeffs}'\")\n",
        "def predict2(X, Y):\n",
        "    n = len(X)\n",
        "    X = np.array(X)\n",
        "    #print('ln=',(ln * results.params[1] ).reshape(10,1))\n",
        "    #print('x1=',X * (results.params[2]))\n",
        "    #print('x2=',(X.dot(X.T).dot(ln * results.params[3]).reshape(10,1)))\n",
        "    y_pred = ( np.ones(10) * results.params[0] ).reshape(10,1)\n",
        "    for i in range(6):\n",
        "      y_pred += ((X**(i+1)) * ( results.params[i+1])).reshape(10,1)\n",
        "    y = Y\n",
        "    if n != len(y):\n",
        "        print (\"Error, the input X, y should be the same length, while you have len(X)=%d and len(y)=%d\"%(n, len(y)))\n",
        "    y = np.array(y)\n",
        "    y_pred = y_pred.reshape(n)\n",
        "    if len(y.shape) != 1:\n",
        "        y = y.reshape(n)\n",
        "        rmse = np.sqrt(np.sum(np.square(y-y_pred)) / n)\n",
        "    return y_pred, rmse\n",
        "\n",
        "y_pred_2, rmse_2 = predict2(x0,Y)"
      ]
    },
    {
      "cell_type": "markdown",
      "metadata": {
        "id": "WwwVSEDyvo1U"
      },
      "source": [
        "## Third regression model\n",
        "\n",
        "You should build the following model:\n",
        "\n",
        "$$ y_3 = \\theta_1 \\cdot x + \\theta_0 $$\n",
        "\n",
        "where $y$ is the response variable and $x$ is the explanatory variable (see description of your dataset).\n",
        "\n",
        "### 5. Train third regression model with gradient descent (3 points, optional)\n",
        "\n",
        "You can write your own function for gradient descent or find one on the Internet. It should be possible to change the initial value and learning rate.\n",
        "\n",
        "`third_model_coeffs` should be an iterable, e.g. a list or a numpy array"
      ]
    },
    {
      "cell_type": "code",
      "execution_count": 53,
      "metadata": {
        "colab": {
          "base_uri": "https://localhost:8080/"
        },
        "id": "j60wWrylvo1V",
        "outputId": "b4296630-5139-433d-f68a-42f6f769f8a6"
      },
      "outputs": [
        {
          "output_type": "stream",
          "name": "stdout",
          "text": [
            "Coefficints of the third regression model are '[ 9.24363618 -0.40969694]'\n"
          ]
        }
      ],
      "source": [
        "x0 = X\n",
        "ln = np.linspace(0, 9, num=10)\n",
        "X1 = np.column_stack((np.ones(10), x0))\n",
        "\n",
        "X1 = sm.add_constant(X1)\n",
        "\n",
        "model = sm.OLS(Y, X1)\n",
        "results = model.fit()\n",
        "\n",
        "third_model_coeffs = results.params\n",
        "\n",
        "print(f\"Coefficints of the third regression model are '{third_model_coeffs}'\")\n",
        "def predict3(X1, Y):\n",
        "    n = len(X1)\n",
        "    X1 = np.array(X1)\n",
        "    y_pred = X1 * (results.params[1]) + np.ones(10).reshape(10,1) * results.params[0]\n",
        "  #self.y_pred = y_pred\n",
        "    y = Y\n",
        "    #if y != None:\n",
        "    if n != len(y):\n",
        "        print (\"Error, the input X, y should be the same length, while you have len(X)=%d and len(y)=%d\"%(n, len(y)))\n",
        "    y = np.array(y)\n",
        "    y_pred = y_pred.reshape(n)\n",
        "    if len(y.shape) != 1:\n",
        "        y = y.reshape(n)\n",
        "        rmse = np.sqrt(np.sum(np.square(y-y_pred)) / n)\n",
        "    return y_pred, rmse\n",
        "\n",
        "y_pred_3, rmse_3 = predict3(x0,Y)\n",
        "\n",
        "def gradient_descent(init, steps, grad, proj=lambda x: x):\n",
        "  xs=[init]\n",
        "  for step in steps:\n",
        "    xs.append(proj(xs[-1] - step * grad(xs[-1])))\n",
        "  return xs\n",
        "\n",
        "def quadratic_grad(X,y,w,b):\n",
        "  delta = np.sum(X.T * (X.dot(w)+b - y), axis=1)\n",
        "  return delta"
      ]
    },
    {
      "cell_type": "markdown",
      "metadata": {
        "id": "59ww9z-kvo1V"
      },
      "source": [
        "## Error estimation\n",
        "\n",
        "### 6. Calculate MSE and RMSE for all your regression models (2 points)\n",
        "\n",
        "Error estimations should be floating point numbers"
      ]
    },
    {
      "cell_type": "code",
      "execution_count": 58,
      "metadata": {
        "colab": {
          "base_uri": "https://localhost:8080/"
        },
        "id": "oUqYmHK8vo1W",
        "outputId": "68f63031-8267-4bf8-e7bd-d2f0b2f1b358"
      },
      "outputs": [
        {
          "output_type": "stream",
          "name": "stdout",
          "text": [
            "mse: 0.08885303935428499 0.05186796343388882 0.09522424141857196\n",
            "rmse: 0.29808226943963806 0.22774539168529584 0.30858425335485273\n"
          ]
        }
      ],
      "source": [
        "first_model_mse = mean_squared_error(Y, y_pred_1, squared=True) #mse_1\n",
        "second_model_mse = mean_squared_error(Y, y_pred_2, squared=True)\n",
        "third_model_mse = mean_squared_error(Y, y_pred_3, squared=True)\n",
        "\n",
        "first_model_rmse = rmse_1 #mean_squared_error(Y, y_pred_1)\n",
        "second_model_rmse = rmse_2 #mean_squared_error(Y, y_pred_2)\n",
        "third_model_rmse = rmse_3 #mean_squared_error(Y, y_pred_3)\n",
        "\n",
        "print('mse:', first_model_mse, second_model_mse, third_model_mse)\n",
        "print('rmse:', first_model_rmse, second_model_rmse, third_model_rmse)"
      ]
    },
    {
      "cell_type": "markdown",
      "metadata": {
        "id": "meBOjIyJvo1W"
      },
      "source": [
        "## Visualization\n",
        "\n",
        "### 7. Use `matplotlib` to visualize your results (graded manually, exam)\n",
        "\n",
        "You should build a single plot with all your models (2 or 3) drawn as curves/lines of different type and color. Additional points if you make the curves look smooth. Draw your dataset as dots on the same plot, do not connect them with lines."
      ]
    },
    {
      "cell_type": "code",
      "execution_count": null,
      "metadata": {
        "id": "3my9LfGUvo1W"
      },
      "outputs": [],
      "source": [
        "# Place your code here"
      ]
    },
    {
      "cell_type": "markdown",
      "metadata": {
        "id": "zOz9KMRAvo1X"
      },
      "source": [
        "### 8. Prepare to discuss your results with the teacher (exam)\n",
        "\n",
        "Which model is better? Why? What else can you do to make the predictions better?"
      ]
    },
    {
      "cell_type": "code",
      "execution_count": null,
      "metadata": {
        "id": "6GYvRaZivo1X"
      },
      "outputs": [],
      "source": [
        ""
      ]
    }
  ],
  "metadata": {
    "kernelspec": {
      "display_name": "Python 3",
      "language": "python",
      "name": "python3"
    },
    "language_info": {
      "codemirror_mode": {
        "name": "ipython",
        "version": 3
      },
      "file_extension": ".py",
      "mimetype": "text/x-python",
      "name": "python",
      "nbconvert_exporter": "python",
      "pygments_lexer": "ipython3",
      "version": "3.7.6"
    },
    "colab": {
      "name": "regression_exercise.ipynb",
      "provenance": []
    }
  },
  "nbformat": 4,
  "nbformat_minor": 0
}